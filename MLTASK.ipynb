{
 "cells": [
  {
   "cell_type": "markdown",
   "metadata": {},
   "source": [
    "# Job Industry Classification Task\n",
    "## Submitted By: Reham ElTagoury"
   ]
  },
  {
   "cell_type": "markdown",
   "metadata": {},
   "source": [
    "## Importing Libraries"
   ]
  },
  {
   "cell_type": "code",
   "execution_count": 1,
   "metadata": {
    "id": "-A0cmVTOQ_9d"
   },
   "outputs": [],
   "source": [
    "import pandas as pd\n",
    "import seaborn as sns\n",
    "import matplotlib.pyplot as plt\n",
    "# for creating the feature vector\n",
    "from sklearn.feature_extraction.text import TfidfVectorizer,CountVectorizer,TfidfTransformer\n",
    "# Handling imbalanced data and model creation\n",
    "from imblearn.over_sampling import SMOTE\n",
    "from sklearn.model_selection import cross_val_score\n",
    "from sklearn.svm import LinearSVC\n",
    "from imblearn.pipeline import Pipeline\n",
    "# for saving the model\n",
    "import joblib\n",
    "# for saving the vectorizor \n",
    "import pickle"
   ]
  },
  {
   "cell_type": "markdown",
   "metadata": {},
   "source": [
    "## Loading the Data"
   ]
  },
  {
   "cell_type": "code",
   "execution_count": 2,
   "metadata": {
    "colab": {
     "base_uri": "https://localhost:8080/",
     "height": 663
    },
    "id": "AqiCqbBbRsU4",
    "outputId": "6de564c9-9ca8-4682-d2ec-d787d3baaed6",
    "scrolled": true
   },
   "outputs": [
    {
     "data": {
      "text/html": [
       "<div>\n",
       "<style scoped>\n",
       "    .dataframe tbody tr th:only-of-type {\n",
       "        vertical-align: middle;\n",
       "    }\n",
       "\n",
       "    .dataframe tbody tr th {\n",
       "        vertical-align: top;\n",
       "    }\n",
       "\n",
       "    .dataframe thead th {\n",
       "        text-align: right;\n",
       "    }\n",
       "</style>\n",
       "<table border=\"1\" class=\"dataframe\">\n",
       "  <thead>\n",
       "    <tr style=\"text-align: right;\">\n",
       "      <th></th>\n",
       "      <th>job title</th>\n",
       "      <th>industry</th>\n",
       "    </tr>\n",
       "  </thead>\n",
       "  <tbody>\n",
       "    <tr>\n",
       "      <th>0</th>\n",
       "      <td>technical support and helpdesk supervisor - co...</td>\n",
       "      <td>IT</td>\n",
       "    </tr>\n",
       "    <tr>\n",
       "      <th>1</th>\n",
       "      <td>senior technical support engineer</td>\n",
       "      <td>IT</td>\n",
       "    </tr>\n",
       "    <tr>\n",
       "      <th>2</th>\n",
       "      <td>head of it services</td>\n",
       "      <td>IT</td>\n",
       "    </tr>\n",
       "    <tr>\n",
       "      <th>3</th>\n",
       "      <td>js front end engineer</td>\n",
       "      <td>IT</td>\n",
       "    </tr>\n",
       "    <tr>\n",
       "      <th>4</th>\n",
       "      <td>network and telephony controller</td>\n",
       "      <td>IT</td>\n",
       "    </tr>\n",
       "    <tr>\n",
       "      <th>5</th>\n",
       "      <td>privileged access management expert</td>\n",
       "      <td>IT</td>\n",
       "    </tr>\n",
       "    <tr>\n",
       "      <th>6</th>\n",
       "      <td>devops engineers x 3 - global brand</td>\n",
       "      <td>IT</td>\n",
       "    </tr>\n",
       "    <tr>\n",
       "      <th>7</th>\n",
       "      <td>devops engineers x 3 - global brand</td>\n",
       "      <td>IT</td>\n",
       "    </tr>\n",
       "    <tr>\n",
       "      <th>8</th>\n",
       "      <td>data modeller</td>\n",
       "      <td>IT</td>\n",
       "    </tr>\n",
       "    <tr>\n",
       "      <th>9</th>\n",
       "      <td>php web developer £45,000 based in london</td>\n",
       "      <td>IT</td>\n",
       "    </tr>\n",
       "    <tr>\n",
       "      <th>10</th>\n",
       "      <td>devops engineers x 3 - global brand</td>\n",
       "      <td>IT</td>\n",
       "    </tr>\n",
       "    <tr>\n",
       "      <th>11</th>\n",
       "      <td>devops engineers x 3 - global brand</td>\n",
       "      <td>IT</td>\n",
       "    </tr>\n",
       "    <tr>\n",
       "      <th>12</th>\n",
       "      <td>solution / technical architect - ethical brand</td>\n",
       "      <td>IT</td>\n",
       "    </tr>\n",
       "    <tr>\n",
       "      <th>13</th>\n",
       "      <td>lead developer - ethical brand</td>\n",
       "      <td>IT</td>\n",
       "    </tr>\n",
       "    <tr>\n",
       "      <th>14</th>\n",
       "      <td>junior front-end developer</td>\n",
       "      <td>IT</td>\n",
       "    </tr>\n",
       "    <tr>\n",
       "      <th>15</th>\n",
       "      <td>vb .net web developer, milton keynes, £45k</td>\n",
       "      <td>IT</td>\n",
       "    </tr>\n",
       "    <tr>\n",
       "      <th>16</th>\n",
       "      <td>data scientist, newcastle, up to £40k</td>\n",
       "      <td>IT</td>\n",
       "    </tr>\n",
       "    <tr>\n",
       "      <th>17</th>\n",
       "      <td>senior bi engineer</td>\n",
       "      <td>IT</td>\n",
       "    </tr>\n",
       "    <tr>\n",
       "      <th>18</th>\n",
       "      <td>machine learning engineer</td>\n",
       "      <td>IT</td>\n",
       "    </tr>\n",
       "    <tr>\n",
       "      <th>19</th>\n",
       "      <td>full stack developer, oxfordshire, £40k</td>\n",
       "      <td>IT</td>\n",
       "    </tr>\n",
       "  </tbody>\n",
       "</table>\n",
       "</div>"
      ],
      "text/plain": [
       "                                            job title industry\n",
       "0   technical support and helpdesk supervisor - co...       IT\n",
       "1                   senior technical support engineer       IT\n",
       "2                                 head of it services       IT\n",
       "3                               js front end engineer       IT\n",
       "4                    network and telephony controller       IT\n",
       "5                 privileged access management expert       IT\n",
       "6                 devops engineers x 3 - global brand       IT\n",
       "7                 devops engineers x 3 - global brand       IT\n",
       "8                                       data modeller       IT\n",
       "9           php web developer £45,000 based in london       IT\n",
       "10                devops engineers x 3 - global brand       IT\n",
       "11                devops engineers x 3 - global brand       IT\n",
       "12     solution / technical architect - ethical brand       IT\n",
       "13                     lead developer - ethical brand       IT\n",
       "14                         junior front-end developer       IT\n",
       "15         vb .net web developer, milton keynes, £45k       IT\n",
       "16              data scientist, newcastle, up to £40k       IT\n",
       "17                                 senior bi engineer       IT\n",
       "18                          machine learning engineer       IT\n",
       "19            full stack developer, oxfordshire, £40k       IT"
      ]
     },
     "execution_count": 2,
     "metadata": {},
     "output_type": "execute_result"
    }
   ],
   "source": [
    "data=pd.read_csv(\"C:/Users/user/Downloads/RehamElTagoury_IndustryClassificationTask/Job titles and industries.csv\")\n",
    "data.head(20)"
   ]
  },
  {
   "cell_type": "code",
   "execution_count": 3,
   "metadata": {
    "colab": {
     "base_uri": "https://localhost:8080/"
    },
    "id": "O1GsrszgR2NJ",
    "outputId": "0a883936-bae4-4177-8df3-1026da941d69"
   },
   "outputs": [
    {
     "name": "stdout",
     "output_type": "stream",
     "text": [
      "<class 'pandas.core.frame.DataFrame'>\n",
      "RangeIndex: 8586 entries, 0 to 8585\n",
      "Data columns (total 2 columns):\n",
      " #   Column     Non-Null Count  Dtype \n",
      "---  ------     --------------  ----- \n",
      " 0   job title  8586 non-null   object\n",
      " 1   industry   8586 non-null   object\n",
      "dtypes: object(2)\n",
      "memory usage: 134.3+ KB\n"
     ]
    }
   ],
   "source": [
    "data.info()"
   ]
  },
  {
   "cell_type": "markdown",
   "metadata": {
    "id": "Ip1ntGBuJ3EE"
   },
   "source": [
    "### probems need to be solved:\n",
    "\n",
    "\n",
    "*  Special Characters in job title \n",
    "* Duplicates\n",
    "* Imbalanced Data\n",
    "\n",
    "\n"
   ]
  },
  {
   "cell_type": "markdown",
   "metadata": {
    "id": "akhizUH8Kd7u"
   },
   "source": [
    " ## Handling Special Characters\n"
   ]
  },
  {
   "cell_type": "code",
   "execution_count": 4,
   "metadata": {
    "colab": {
     "base_uri": "https://localhost:8080/",
     "height": 1000
    },
    "id": "PvXyM4wcKioU",
    "outputId": "94c0c4a2-c2ac-45a7-d780-514cc23e1125"
   },
   "outputs": [
    {
     "data": {
      "text/html": [
       "<div>\n",
       "<style scoped>\n",
       "    .dataframe tbody tr th:only-of-type {\n",
       "        vertical-align: middle;\n",
       "    }\n",
       "\n",
       "    .dataframe tbody tr th {\n",
       "        vertical-align: top;\n",
       "    }\n",
       "\n",
       "    .dataframe thead th {\n",
       "        text-align: right;\n",
       "    }\n",
       "</style>\n",
       "<table border=\"1\" class=\"dataframe\">\n",
       "  <thead>\n",
       "    <tr style=\"text-align: right;\">\n",
       "      <th></th>\n",
       "      <th>job title</th>\n",
       "      <th>industry</th>\n",
       "    </tr>\n",
       "  </thead>\n",
       "  <tbody>\n",
       "    <tr>\n",
       "      <th>0</th>\n",
       "      <td>technical support and helpdesk supervisor - co...</td>\n",
       "      <td>IT</td>\n",
       "    </tr>\n",
       "    <tr>\n",
       "      <th>1</th>\n",
       "      <td>senior technical support engineer</td>\n",
       "      <td>IT</td>\n",
       "    </tr>\n",
       "    <tr>\n",
       "      <th>2</th>\n",
       "      <td>head of it services</td>\n",
       "      <td>IT</td>\n",
       "    </tr>\n",
       "    <tr>\n",
       "      <th>3</th>\n",
       "      <td>js front end engineer</td>\n",
       "      <td>IT</td>\n",
       "    </tr>\n",
       "    <tr>\n",
       "      <th>4</th>\n",
       "      <td>network and telephony controller</td>\n",
       "      <td>IT</td>\n",
       "    </tr>\n",
       "    <tr>\n",
       "      <th>5</th>\n",
       "      <td>privileged access management expert</td>\n",
       "      <td>IT</td>\n",
       "    </tr>\n",
       "    <tr>\n",
       "      <th>6</th>\n",
       "      <td>devops engineers x 3 - global brand</td>\n",
       "      <td>IT</td>\n",
       "    </tr>\n",
       "    <tr>\n",
       "      <th>7</th>\n",
       "      <td>devops engineers x 3 - global brand</td>\n",
       "      <td>IT</td>\n",
       "    </tr>\n",
       "    <tr>\n",
       "      <th>8</th>\n",
       "      <td>data modeller</td>\n",
       "      <td>IT</td>\n",
       "    </tr>\n",
       "    <tr>\n",
       "      <th>9</th>\n",
       "      <td>php web developer  45,000 based in london</td>\n",
       "      <td>IT</td>\n",
       "    </tr>\n",
       "    <tr>\n",
       "      <th>10</th>\n",
       "      <td>devops engineers x 3 - global brand</td>\n",
       "      <td>IT</td>\n",
       "    </tr>\n",
       "    <tr>\n",
       "      <th>11</th>\n",
       "      <td>devops engineers x 3 - global brand</td>\n",
       "      <td>IT</td>\n",
       "    </tr>\n",
       "    <tr>\n",
       "      <th>12</th>\n",
       "      <td>solution / technical architect - ethical brand</td>\n",
       "      <td>IT</td>\n",
       "    </tr>\n",
       "    <tr>\n",
       "      <th>13</th>\n",
       "      <td>lead developer - ethical brand</td>\n",
       "      <td>IT</td>\n",
       "    </tr>\n",
       "    <tr>\n",
       "      <th>14</th>\n",
       "      <td>junior front-end developer</td>\n",
       "      <td>IT</td>\n",
       "    </tr>\n",
       "    <tr>\n",
       "      <th>15</th>\n",
       "      <td>vb .net web developer, milton keynes,  45k</td>\n",
       "      <td>IT</td>\n",
       "    </tr>\n",
       "    <tr>\n",
       "      <th>16</th>\n",
       "      <td>data scientist, newcastle, up to  40k</td>\n",
       "      <td>IT</td>\n",
       "    </tr>\n",
       "    <tr>\n",
       "      <th>17</th>\n",
       "      <td>senior bi engineer</td>\n",
       "      <td>IT</td>\n",
       "    </tr>\n",
       "    <tr>\n",
       "      <th>18</th>\n",
       "      <td>machine learning engineer</td>\n",
       "      <td>IT</td>\n",
       "    </tr>\n",
       "    <tr>\n",
       "      <th>19</th>\n",
       "      <td>full stack developer, oxfordshire,  40k</td>\n",
       "      <td>IT</td>\n",
       "    </tr>\n",
       "    <tr>\n",
       "      <th>20</th>\n",
       "      <td>c# software developer, waltham cross,  55k</td>\n",
       "      <td>IT</td>\n",
       "    </tr>\n",
       "    <tr>\n",
       "      <th>21</th>\n",
       "      <td>senior data engineer</td>\n",
       "      <td>IT</td>\n",
       "    </tr>\n",
       "    <tr>\n",
       "      <th>22</th>\n",
       "      <td>erp support analyst - unit4, agresso business ...</td>\n",
       "      <td>IT</td>\n",
       "    </tr>\n",
       "    <tr>\n",
       "      <th>23</th>\n",
       "      <td>application support analyst - cheshire - finan...</td>\n",
       "      <td>IT</td>\n",
       "    </tr>\n",
       "    <tr>\n",
       "      <th>24</th>\n",
       "      <td>accountancy software trainer - manchester - re...</td>\n",
       "      <td>IT</td>\n",
       "    </tr>\n",
       "    <tr>\n",
       "      <th>25</th>\n",
       "      <td>business analyst</td>\n",
       "      <td>IT</td>\n",
       "    </tr>\n",
       "    <tr>\n",
       "      <th>26</th>\n",
       "      <td>business analyst</td>\n",
       "      <td>IT</td>\n",
       "    </tr>\n",
       "    <tr>\n",
       "      <th>27</th>\n",
       "      <td>delivery lead</td>\n",
       "      <td>IT</td>\n",
       "    </tr>\n",
       "    <tr>\n",
       "      <th>28</th>\n",
       "      <td>devops engineer x 2 temp - county buildings, a...</td>\n",
       "      <td>IT</td>\n",
       "    </tr>\n",
       "    <tr>\n",
       "      <th>29</th>\n",
       "      <td>it change and problem analyst</td>\n",
       "      <td>IT</td>\n",
       "    </tr>\n",
       "    <tr>\n",
       "      <th>30</th>\n",
       "      <td>data science - product manager</td>\n",
       "      <td>IT</td>\n",
       "    </tr>\n",
       "    <tr>\n",
       "      <th>31</th>\n",
       "      <td>development team lead</td>\n",
       "      <td>IT</td>\n",
       "    </tr>\n",
       "    <tr>\n",
       "      <th>32</th>\n",
       "      <td>project manager</td>\n",
       "      <td>IT</td>\n",
       "    </tr>\n",
       "    <tr>\n",
       "      <th>33</th>\n",
       "      <td>.net developer</td>\n",
       "      <td>IT</td>\n",
       "    </tr>\n",
       "    <tr>\n",
       "      <th>34</th>\n",
       "      <td>senior web developer</td>\n",
       "      <td>IT</td>\n",
       "    </tr>\n",
       "    <tr>\n",
       "      <th>35</th>\n",
       "      <td>java developer</td>\n",
       "      <td>IT</td>\n",
       "    </tr>\n",
       "    <tr>\n",
       "      <th>36</th>\n",
       "      <td>.net developer</td>\n",
       "      <td>IT</td>\n",
       "    </tr>\n",
       "    <tr>\n",
       "      <th>37</th>\n",
       "      <td>business analyst</td>\n",
       "      <td>IT</td>\n",
       "    </tr>\n",
       "    <tr>\n",
       "      <th>38</th>\n",
       "      <td>lead data engineer</td>\n",
       "      <td>IT</td>\n",
       "    </tr>\n",
       "    <tr>\n",
       "      <th>39</th>\n",
       "      <td>ict technician</td>\n",
       "      <td>IT</td>\n",
       "    </tr>\n",
       "    <tr>\n",
       "      <th>40</th>\n",
       "      <td>infrastructure architect</td>\n",
       "      <td>IT</td>\n",
       "    </tr>\n",
       "    <tr>\n",
       "      <th>41</th>\n",
       "      <td>front end developer contract</td>\n",
       "      <td>IT</td>\n",
       "    </tr>\n",
       "    <tr>\n",
       "      <th>42</th>\n",
       "      <td>java developer - dv cleared - contract</td>\n",
       "      <td>IT</td>\n",
       "    </tr>\n",
       "    <tr>\n",
       "      <th>43</th>\n",
       "      <td>senior ios developer</td>\n",
       "      <td>IT</td>\n",
       "    </tr>\n",
       "    <tr>\n",
       "      <th>44</th>\n",
       "      <td>ui developer</td>\n",
       "      <td>IT</td>\n",
       "    </tr>\n",
       "    <tr>\n",
       "      <th>45</th>\n",
       "      <td>senior data engineer - machine learning</td>\n",
       "      <td>IT</td>\n",
       "    </tr>\n",
       "    <tr>\n",
       "      <th>46</th>\n",
       "      <td>solution architect</td>\n",
       "      <td>IT</td>\n",
       "    </tr>\n",
       "    <tr>\n",
       "      <th>47</th>\n",
       "      <td>front end javascript developer (react.js),  55...</td>\n",
       "      <td>IT</td>\n",
       "    </tr>\n",
       "    <tr>\n",
       "      <th>48</th>\n",
       "      <td>application support analyst - dynamics - centr...</td>\n",
       "      <td>IT</td>\n",
       "    </tr>\n",
       "    <tr>\n",
       "      <th>49</th>\n",
       "      <td>civils agent / manager</td>\n",
       "      <td>IT</td>\n",
       "    </tr>\n",
       "  </tbody>\n",
       "</table>\n",
       "</div>"
      ],
      "text/plain": [
       "                                            job title industry\n",
       "0   technical support and helpdesk supervisor - co...       IT\n",
       "1                   senior technical support engineer       IT\n",
       "2                                 head of it services       IT\n",
       "3                               js front end engineer       IT\n",
       "4                    network and telephony controller       IT\n",
       "5                 privileged access management expert       IT\n",
       "6                 devops engineers x 3 - global brand       IT\n",
       "7                 devops engineers x 3 - global brand       IT\n",
       "8                                       data modeller       IT\n",
       "9           php web developer  45,000 based in london       IT\n",
       "10                devops engineers x 3 - global brand       IT\n",
       "11                devops engineers x 3 - global brand       IT\n",
       "12     solution / technical architect - ethical brand       IT\n",
       "13                     lead developer - ethical brand       IT\n",
       "14                         junior front-end developer       IT\n",
       "15         vb .net web developer, milton keynes,  45k       IT\n",
       "16              data scientist, newcastle, up to  40k       IT\n",
       "17                                 senior bi engineer       IT\n",
       "18                          machine learning engineer       IT\n",
       "19            full stack developer, oxfordshire,  40k       IT\n",
       "20         c# software developer, waltham cross,  55k       IT\n",
       "21                               senior data engineer       IT\n",
       "22  erp support analyst - unit4, agresso business ...       IT\n",
       "23  application support analyst - cheshire - finan...       IT\n",
       "24  accountancy software trainer - manchester - re...       IT\n",
       "25                                   business analyst       IT\n",
       "26                                   business analyst       IT\n",
       "27                                      delivery lead       IT\n",
       "28  devops engineer x 2 temp - county buildings, a...       IT\n",
       "29                      it change and problem analyst       IT\n",
       "30                     data science - product manager       IT\n",
       "31                              development team lead       IT\n",
       "32                                    project manager       IT\n",
       "33                                     .net developer       IT\n",
       "34                               senior web developer       IT\n",
       "35                                     java developer       IT\n",
       "36                                     .net developer       IT\n",
       "37                                   business analyst       IT\n",
       "38                                 lead data engineer       IT\n",
       "39                                     ict technician       IT\n",
       "40                           infrastructure architect       IT\n",
       "41                       front end developer contract       IT\n",
       "42             java developer - dv cleared - contract       IT\n",
       "43                               senior ios developer       IT\n",
       "44                                       ui developer       IT\n",
       "45            senior data engineer - machine learning       IT\n",
       "46                                 solution architect       IT\n",
       "47  front end javascript developer (react.js),  55...       IT\n",
       "48  application support analyst - dynamics - centr...       IT\n",
       "49                             civils agent / manager       IT"
      ]
     },
     "execution_count": 4,
     "metadata": {},
     "output_type": "execute_result"
    }
   ],
   "source": [
    "jobs=[]\n",
    "for job in data['job title']:\n",
    "    job = job.replace(\"[^A-Za-z]+\",\" \")\n",
    "    # removing frank sign\n",
    "    job = job.replace(\"£\",\" \")\n",
    "    jobs.append(job)\n",
    "data_new=pd.DataFrame(jobs,columns = ['job title'])\n",
    "data_new['industry']=data['industry']\n",
    "data_new.head(50)"
   ]
  },
  {
   "cell_type": "markdown",
   "metadata": {
    "id": "Gm-mO_qoMhvm"
   },
   "source": [
    "## Handling Duplicates"
   ]
  },
  {
   "cell_type": "code",
   "execution_count": 5,
   "metadata": {
    "colab": {
     "base_uri": "https://localhost:8080/"
    },
    "id": "k00_FHhwUn_O",
    "outputId": "27b5d3af-d0da-4938-d456-e3871e815493"
   },
   "outputs": [
    {
     "data": {
      "text/plain": [
       "4618"
      ]
     },
     "execution_count": 5,
     "metadata": {},
     "output_type": "execute_result"
    }
   ],
   "source": [
    "data_new.duplicated().sum()"
   ]
  },
  {
   "cell_type": "code",
   "execution_count": 6,
   "metadata": {
    "id": "4ZSysURxJO8Y"
   },
   "outputs": [],
   "source": [
    "# droping duplicates\n",
    "data_new.drop_duplicates(inplace=True)"
   ]
  },
  {
   "cell_type": "code",
   "execution_count": 7,
   "metadata": {
    "colab": {
     "base_uri": "https://localhost:8080/"
    },
    "id": "LTSPB4q3Jdl5",
    "outputId": "83fd17bb-f1ca-4f67-c64f-3b75f673ff6e"
   },
   "outputs": [
    {
     "name": "stdout",
     "output_type": "stream",
     "text": [
      "<class 'pandas.core.frame.DataFrame'>\n",
      "Int64Index: 3968 entries, 0 to 8585\n",
      "Data columns (total 2 columns):\n",
      " #   Column     Non-Null Count  Dtype \n",
      "---  ------     --------------  ----- \n",
      " 0   job title  3968 non-null   object\n",
      " 1   industry   3968 non-null   object\n",
      "dtypes: object(2)\n",
      "memory usage: 93.0+ KB\n"
     ]
    }
   ],
   "source": [
    "data_new.info()"
   ]
  },
  {
   "cell_type": "markdown",
   "metadata": {
    "id": "OFL8JuHjSDda"
   },
   "source": [
    "## Visualizing the target"
   ]
  },
  {
   "cell_type": "code",
   "execution_count": 8,
   "metadata": {
    "colab": {
     "base_uri": "https://localhost:8080/",
     "height": 295
    },
    "id": "IwlmPVR9SFlz",
    "outputId": "8a47a97a-0e4d-491f-c3e0-c00026afe29d"
   },
   "outputs": [
    {
     "data": {
      "image/png": "[encoded data removed]",
      "text/plain": [
       "<Figure size 432x288 with 1 Axes>"
      ]
     },
     "metadata": {
      "needs_background": "light"
     },
     "output_type": "display_data"
    }
   ],
   "source": [
    "sns.countplot(x='industry',data=data_new).set_title(\"Target Visualization\");"
   ]
  },
  {
   "cell_type": "code",
   "execution_count": 9,
   "metadata": {
    "colab": {
     "base_uri": "https://localhost:8080/"
    },
    "id": "7V6nFIyyM73Z",
    "outputId": "8bc5fa6e-c9c5-442b-d058-65ee519de358"
   },
   "outputs": [
    {
     "data": {
      "text/plain": [
       "(3968, 2)"
      ]
     },
     "execution_count": 9,
     "metadata": {},
     "output_type": "execute_result"
    }
   ],
   "source": [
    "data_new.shape"
   ]
  },
  {
   "cell_type": "code",
   "execution_count": 10,
   "metadata": {
    "colab": {
     "base_uri": "https://localhost:8080/"
    },
    "id": "gekgJpI2PaUd",
    "outputId": "e3b3118a-d600-4262-bdcf-c2e69dc1f4ab"
   },
   "outputs": [
    {
     "data": {
      "text/plain": [
       "IT             1529\n",
       "Marketing      1203\n",
       "Education       973\n",
       "Accountancy     263\n",
       "Name: industry, dtype: int64"
      ]
     },
     "execution_count": 10,
     "metadata": {},
     "output_type": "execute_result"
    }
   ],
   "source": [
    "data_new.industry.value_counts()"
   ]
  },
  {
   "cell_type": "markdown",
   "metadata": {
    "id": "kH6UYOjLUZNT"
   },
   "source": [
    "## Creating the Feature Vector"
   ]
  },
  {
   "cell_type": "code",
   "execution_count": 11,
   "metadata": {
    "colab": {
     "base_uri": "https://localhost:8080/"
    },
    "id": "pcD0XhZqRpzt",
    "outputId": "bfe1c14a-9892-40fd-acd1-d0baeae7bf01"
   },
   "outputs": [
    {
     "name": "stdout",
     "output_type": "stream",
     "text": [
      "(3968, 775)\n"
     ]
    }
   ],
   "source": [
    "\n",
    "Feature_vector = TfidfVectorizer(sublinear_tf= True ,min_df = 5,norm = 'max' ,ngram_range = (1,2) ,stop_words = 'english')\n",
    "features = Feature_vector.fit_transform(data_new['job title']).toarray()\n",
    "print(features.shape)"
   ]
  },
  {
   "cell_type": "code",
   "execution_count": 12,
   "metadata": {
    "id": "M1hJTIEWR16p"
   },
   "outputs": [],
   "source": [
    "count_vector = CountVectorizer()\n",
    "X_train_vectorized = count_vector.fit_transform(data_new['job title'])\n",
    "tfidf= TfidfTransformer()\n",
    "X_train_transformed = tfidf.fit_transform(X_train_vectorized)"
   ]
  },
  {
   "cell_type": "markdown",
   "metadata": {
    "id": "xZcnBiw4R9mg"
   },
   "source": [
    "## Handling Imbalanced Data and Model Creation"
   ]
  },
  {
   "cell_type": "markdown",
   "metadata": {
    "id": "AAhcoqWEM1pD"
   },
   "source": [
    "\n",
    "\n",
    "*   After removing the duplicates we will balance the data using oversampling smote\n",
    "\n"
   ]
  },
  {
   "cell_type": "code",
   "execution_count": 13,
   "metadata": {
    "colab": {
     "base_uri": "https://localhost:8080/"
    },
    "id": "2OrYMc1DR38b",
    "outputId": "dcfe2b3f-a454-407e-f7b7-aeb220cf9454"
   },
   "outputs": [
    {
     "name": "stdout",
     "output_type": "stream",
     "text": [
      "[0.89420655 0.90680101 0.90428212 0.94206549 0.91939547 0.9093199\n",
      " 0.88664987 0.81360202 0.75       0.82070707]\n"
     ]
    }
   ],
   "source": [
    "\n",
    "steps = [('over', SMOTE()), ('model', LinearSVC())]\n",
    "pipeline = Pipeline(steps=steps)\n",
    "scores = cross_val_score(pipeline,X_train_transformed, data_new['industry'], scoring='accuracy', cv=10, n_jobs=-1)\n",
    "print(scores)"
   ]
  },
  {
   "cell_type": "code",
   "execution_count": 15,
   "metadata": {
    "colab": {
     "base_uri": "https://localhost:8080/"
    },
    "id": "nQQGPhcVSZp6",
    "outputId": "910deb6b-2780-4eb7-dae1-a0c8d0cf44f4",
    "scrolled": true
   },
   "outputs": [
    {
     "data": {
      "text/plain": [
       "array(['IT'], dtype=object)"
      ]
     },
     "execution_count": 15,
     "metadata": {},
     "output_type": "execute_result"
    }
   ],
   "source": [
    "# Fitting and Evalating the model\n",
    "pipeline.fit(X_train_transformed, data_new['industry'])\n",
    "pipeline.predict(count_vector.transform(['Data Scientist']))"
   ]
  },
  {
   "cell_type": "markdown",
   "metadata": {},
   "source": [
    "## Saving the model"
   ]
  },
  {
   "cell_type": "code",
   "execution_count": 16,
   "metadata": {},
   "outputs": [
    {
     "data": {
      "text/plain": [
       "['model.sav']"
      ]
     },
     "execution_count": 16,
     "metadata": {},
     "output_type": "execute_result"
    }
   ],
   "source": [
    "filename = 'model.sav'\n",
    "joblib.dump(pipeline,filename)"
   ]
  },
  {
   "cell_type": "code",
   "execution_count": 19,
   "metadata": {},
   "outputs": [
    {
     "name": "stdout",
     "output_type": "stream",
     "text": [
      "0.9526209677419355\n"
     ]
    }
   ],
   "source": [
    "# just for checking that i saved it correctly\n",
    "loaded_model = joblib.load(filename)\n",
    "result = loaded_model.score(X_train_transformed, data_new['industry'])\n",
    "print(result)"
   ]
  },
  {
   "cell_type": "code",
   "execution_count": 20,
   "metadata": {},
   "outputs": [
    {
     "data": {
      "text/plain": [
       "array(['Education'], dtype=object)"
      ]
     },
     "execution_count": 20,
     "metadata": {},
     "output_type": "execute_result"
    }
   ],
   "source": [
    "loaded_model.predict(count_vector.transform(['physics Teacher']))"
   ]
  },
  {
   "cell_type": "markdown",
   "metadata": {},
   "source": [
    "## Saving the vectorizer "
   ]
  },
  {
   "cell_type": "code",
   "execution_count": 21,
   "metadata": {},
   "outputs": [],
   "source": [
    "pickle.dump(count_vector, open(\"vectorizer.pickle\", \"wb\")) #Save vectorizer"
   ]
  },
  {
   "cell_type": "markdown",
   "metadata": {},
   "source": [
    "# Answering the Questions \n",
    "- Which techniques you have used while cleaning the data if you have cleaned it?\n",
    " * Removing Duplicates\n",
    " * Removing Special Characters\n",
    "- Why have you chosen this classifier? \n",
    " * I chose two models SVM becuase  It can solve linear and non-linear problems and Descision Tree for it's simplicity\n",
    " * The Linear SVM gave higher accuracy\n",
    "- How do you deal with (Imbalance learning)?\n",
    " * There are plenty of techniques like undersampling but when I removed the duplicates the amount of data decreased so I wanted to overcome this decreses so I used oversampling with SMOTE as it increases the rare classes to give a good distribution.\n",
    "- How can you extend the model to have better performance?\n",
    " * We can make a further feature extraction as I noticed in some rows there is an info about the salary so I can Extract that to get a salary column as it can affect the prediction as each industry have it's own salary ranges\n",
    " * We can increase the number of K fold cross validation and tune the model more\n",
    "\n",
    "- How do you evaluate your model?\n",
    " * Using Accuracy metric\n",
    "- What are the limitations of your methodology or Where does your approach fail?\n",
    " * If I get a new Job title and Write for example \"Physics department manager\" this is suppose to be an educational position bt it classify it as an IT position Which means that the model is biased as it doesn't have enough data\n"
   ]
  }
 ],
 "metadata": {
  "colab": {
   "name": "Untitled10.ipynb",
   "provenance": []
  },
  "kernelspec": {
   "display_name": "Python 3",
   "language": "python",
   "name": "python3"
  },
  "language_info": {
   "codemirror_mode": {
    "name": "ipython",
    "version": 3
   },
   "file_extension": ".py",
   "mimetype": "text/x-python",
   "name": "python",
   "nbconvert_exporter": "python",
   "pygments_lexer": "ipython3",
   "version": "3.9.0"
  }
 },
 "nbformat": 4,
 "nbformat_minor": 1
}
