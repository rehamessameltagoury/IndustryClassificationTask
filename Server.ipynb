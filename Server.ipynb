{
 "cells": [
  {
   "cell_type": "code",
   "execution_count": 1,
   "metadata": {},
   "outputs": [
    {
     "name": "stdout",
     "output_type": "stream",
     "text": [
      " * Serving Flask app '__main__' (lazy loading)\n",
      " * Environment: production\n",
      "\u001b[31m   WARNING: This is a development server. Do not use it in a production deployment.\u001b[0m\n",
      "\u001b[2m   Use a production WSGI server instead.\u001b[0m\n",
      " * Debug mode: off\n"
     ]
    },
    {
     "name": "stderr",
     "output_type": "stream",
     "text": [
      " * Running on http://127.0.0.1:5000/ (Press CTRL+C to quit)\n",
      "127.0.0.1 - - [20/Sep/2021 19:19:20] \"GET / HTTP/1.1\" 200 -\n",
      "127.0.0.1 - - [20/Sep/2021 19:19:27] \"GET /Data%20Engineer HTTP/1.1\" 200 -\n"
     ]
    }
   ],
   "source": [
    "from flask import Flask,render_template\n",
    "\n",
    "import requests\n",
    "import pickle\n",
    "import joblib \n",
    "count_vector = pickle.load(open(\"vectorizer.pickle\", 'rb'))  # load the vectorizor\n",
    "app = Flask(__name__) # creating the app\n",
    "@app.route('/', methods=['GET'])\n",
    "def home():\n",
    "    return \"<h1>Inetworks Classification Task</h1>\\\n",
    "    <p>For Predictions send a request to <b>http://127.0.0.1:5000/Your Job Title</b>\"\n",
    "\n",
    "@app.route('/<string:jobtitle>', methods=['GET'])\n",
    "def get_prediction(jobtitle):\n",
    "    filename = 'model.sav'\n",
    "    model = joblib.load(filename) #load the model\n",
    "    prediction = model.predict(count_vector.transform([jobtitle])) #make a prediction\n",
    "    return prediction[0], 200\n",
    "app.run() # run the server"
   ]
  },
  {
   "cell_type": "code",
   "execution_count": null,
   "metadata": {},
   "outputs": [],
   "source": []
  }
 ],
 "metadata": {
  "kernelspec": {
   "display_name": "Python 3",
   "language": "python",
   "name": "python3"
  },
  "language_info": {
   "codemirror_mode": {
    "name": "ipython",
    "version": 3
   },
   "file_extension": ".py",
   "mimetype": "text/x-python",
   "name": "python",
   "nbconvert_exporter": "python",
   "pygments_lexer": "ipython3",
   "version": "3.9.0"
  }
 },
 "nbformat": 4,
 "nbformat_minor": 4
}
